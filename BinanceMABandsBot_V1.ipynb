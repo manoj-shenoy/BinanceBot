{
 "cells": [
  {
   "cell_type": "code",
   "execution_count": null,
   "metadata": {
    "scrolled": false
   },
   "outputs": [
    {
     "name": "stdout",
     "output_type": "stream",
     "text": [
      "\n",
      "\n",
      "----------------------------------------------------------------------\n",
      "\n",
      "\n",
      "Welcome to the Binance Bot Python Script\n",
      "Created 2019 by Manoj Shenoy\n",
      "\n",
      "You can also find this on github- https://www.github.com/manoj-shenoy\n",
      "                                  https://www.github.com/stevens-morons\n",
      "\n",
      "Exchange Status:  {'msg': 'normal', 'status': 0}\n",
      "\n",
      "Selected (watch list) Ticker Prices: \n",
      "{'symbol': 'ETHBTC', 'price': '0.01735900'}\n",
      "{'symbol': 'EOSBTC', 'price': '0.00034480'}\n",
      "{'symbol': 'XRPBTC', 'price': '0.00002616'}\n",
      "{'symbol': 'ADABTC', 'price': '0.00000462'}\n",
      "\n",
      "Watch List Order Tickers: \n",
      "\n",
      "{'symbol': 'ETHBTC', 'bidPrice': '0.01735900', 'bidQty': '1.12300000', 'askPrice': '0.01736200', 'askQty': '0.53300000'}\n",
      "{'symbol': 'EOSBTC', 'bidPrice': '0.00034480', 'bidQty': '397.98000000', 'askPrice': '0.00034510', 'askQty': '12.06000000'}\n",
      "{'symbol': 'XRPBTC', 'bidPrice': '0.00002613', 'bidQty': '11992.00000000', 'askPrice': '0.00002615', 'askQty': '7182.00000000'}\n",
      "{'symbol': 'ADABTC', 'bidPrice': '0.00000462', 'bidQty': '130325.00000000', 'askPrice': '0.00000463', 'askQty': '118275.00000000'}\n"
     ]
    },
    {
     "name": "stderr",
     "output_type": "stream",
     "text": [
      "[===                                                                     ]   5%\r"
     ]
    },
    {
     "name": "stdout",
     "output_type": "stream",
     "text": [
      "              Time      Open      High       Low     Close\n",
      "8635  1.577292e+12  0.017335  0.017374  0.017324  0.017366\n",
      "8636  1.577293e+12  0.017368  0.017378  0.017360  0.017370\n",
      "8637  1.577293e+12  0.017370  0.017380  0.017360  0.017370\n",
      "8638  1.577293e+12  0.017372  0.017376  0.017355  0.017372\n",
      "8639  1.577294e+12  0.017373  0.017373  0.017353  0.017359\n",
      "Previous Close | Previous MA High | Previous MA Low\n",
      "    0.01737           0.017301           0.017267\n",
      "Recent Close | Recent MA High | Recent MA Low\n",
      "    0.017372         0.017302        0.017269\n",
      "Buy Condition  False\n",
      "Sell Condition  False\n",
      "\n",
      "Running Epoch 1/1000000000000000\n"
     ]
    },
    {
     "name": "stderr",
     "output_type": "stream",
     "text": [
      "[========================================================================] 100%\n"
     ]
    },
    {
     "name": "stdout",
     "output_type": "stream",
     "text": [
      "No Trading Signal Triggered\n",
      "Executed Time : 2019-12-25 12:08:12.477313\n"
     ]
    },
    {
     "name": "stderr",
     "output_type": "stream",
     "text": [
      "[=======                                                                 ]  10%\r"
     ]
    },
    {
     "name": "stdout",
     "output_type": "stream",
     "text": [
      "              Time      Open      High       Low     Close\n",
      "8635  1.577293e+12  0.017368  0.017378  0.017360  0.017370\n",
      "8636  1.577293e+12  0.017370  0.017380  0.017360  0.017370\n",
      "8637  1.577293e+12  0.017372  0.017376  0.017355  0.017372\n",
      "8638  1.577294e+12  0.017373  0.017373  0.017340  0.017342\n",
      "8639  1.577294e+12  0.017342  0.017351  0.017342  0.017348\n",
      "Previous Close | Previous MA High | Previous MA Low\n",
      "    0.017372           0.017302           0.017269\n",
      "Recent Close | Recent MA High | Recent MA Low\n",
      "    0.017342         0.017302        0.017271\n",
      "Buy Condition  False\n",
      "Sell Condition  False\n",
      "\n",
      "Running Epoch 2/1000000000000000\n"
     ]
    },
    {
     "name": "stderr",
     "output_type": "stream",
     "text": [
      "[========================================================================] 100%\n"
     ]
    },
    {
     "name": "stdout",
     "output_type": "stream",
     "text": [
      "No Trading Signal Triggered\n",
      "Executed Time : 2019-12-25 12:10:27.505493\n"
     ]
    },
    {
     "name": "stderr",
     "output_type": "stream",
     "text": [
      "[=======                                                                 ]  10%\r"
     ]
    },
    {
     "name": "stdout",
     "output_type": "stream",
     "text": [
      "              Time      Open      High       Low     Close\n",
      "8635  1.577293e+12  0.017368  0.017378  0.017360  0.017370\n",
      "8636  1.577293e+12  0.017370  0.017380  0.017360  0.017370\n",
      "8637  1.577293e+12  0.017372  0.017376  0.017355  0.017372\n",
      "8638  1.577294e+12  0.017373  0.017373  0.017340  0.017342\n",
      "8639  1.577294e+12  0.017342  0.017362  0.017332  0.017338\n",
      "Previous Close | Previous MA High | Previous MA Low\n",
      "    0.017372           0.017302           0.017269\n",
      "Recent Close | Recent MA High | Recent MA Low\n",
      "    0.017342         0.017302        0.017271\n",
      "Buy Condition  False\n",
      "Sell Condition  False\n",
      "\n",
      "Running Epoch 3/1000000000000000\n"
     ]
    },
    {
     "name": "stderr",
     "output_type": "stream",
     "text": [
      "[========================================================================] 100%\n"
     ]
    },
    {
     "name": "stdout",
     "output_type": "stream",
     "text": [
      "No Trading Signal Triggered\n",
      "Executed Time : 2019-12-25 12:12:43.348336\n"
     ]
    },
    {
     "name": "stderr",
     "output_type": "stream",
     "text": [
      "[=======                                                                 ]  10%\r"
     ]
    },
    {
     "name": "stdout",
     "output_type": "stream",
     "text": [
      "              Time      Open      High       Low     Close\n",
      "8635  1.577293e+12  0.017368  0.017378  0.017360  0.017370\n",
      "8636  1.577293e+12  0.017370  0.017380  0.017360  0.017370\n",
      "8637  1.577293e+12  0.017372  0.017376  0.017355  0.017372\n",
      "8638  1.577294e+12  0.017373  0.017373  0.017340  0.017342\n",
      "8639  1.577294e+12  0.017342  0.017362  0.017323  0.017330\n",
      "Previous Close | Previous MA High | Previous MA Low\n",
      "    0.017372           0.017302           0.017269\n",
      "Recent Close | Recent MA High | Recent MA Low\n",
      "    0.017342         0.017302        0.017271\n",
      "Buy Condition  False\n",
      "Sell Condition  False\n",
      "\n",
      "Running Epoch 4/1000000000000000\n"
     ]
    },
    {
     "name": "stderr",
     "output_type": "stream",
     "text": [
      "[========================================================================] 100%\n"
     ]
    },
    {
     "name": "stdout",
     "output_type": "stream",
     "text": [
      "No Trading Signal Triggered\n",
      "Executed Time : 2019-12-25 12:14:57.381255\n"
     ]
    },
    {
     "name": "stderr",
     "output_type": "stream",
     "text": [
      "[=======                                                                 ]  10%\r"
     ]
    },
    {
     "name": "stdout",
     "output_type": "stream",
     "text": [
      "              Time      Open      High       Low     Close\n",
      "8635  1.577293e+12  0.017370  0.017380  0.017360  0.017370\n",
      "8636  1.577293e+12  0.017372  0.017376  0.017355  0.017372\n",
      "8637  1.577294e+12  0.017373  0.017373  0.017340  0.017342\n",
      "8638  1.577294e+12  0.017342  0.017362  0.017323  0.017333\n",
      "8639  1.577294e+12  0.017334  0.017356  0.017334  0.017351\n",
      "Previous Close | Previous MA High | Previous MA Low\n",
      "    0.017342           0.017302           0.017271\n",
      "Recent Close | Recent MA High | Recent MA Low\n",
      "    0.017333         0.017303        0.017272\n",
      "Buy Condition  False\n",
      "Sell Condition  False\n",
      "\n",
      "Running Epoch 5/1000000000000000\n"
     ]
    },
    {
     "name": "stderr",
     "output_type": "stream",
     "text": [
      "[========================================================================] 100%\n"
     ]
    },
    {
     "name": "stdout",
     "output_type": "stream",
     "text": [
      "No Trading Signal Triggered\n",
      "Executed Time : 2019-12-25 12:17:12.084394\n"
     ]
    },
    {
     "name": "stderr",
     "output_type": "stream",
     "text": [
      "[=======                                                                 ]  10%\r"
     ]
    },
    {
     "name": "stdout",
     "output_type": "stream",
     "text": [
      "              Time      Open      High       Low     Close\n",
      "8635  1.577293e+12  0.017370  0.017380  0.017360  0.017370\n",
      "8636  1.577293e+12  0.017372  0.017376  0.017355  0.017372\n",
      "8637  1.577294e+12  0.017373  0.017373  0.017340  0.017342\n",
      "8638  1.577294e+12  0.017342  0.017362  0.017323  0.017333\n",
      "8639  1.577294e+12  0.017334  0.017357  0.017334  0.017350\n",
      "Previous Close | Previous MA High | Previous MA Low\n",
      "    0.017342           0.017302           0.017271\n",
      "Recent Close | Recent MA High | Recent MA Low\n",
      "    0.017333         0.017303        0.017272\n",
      "Buy Condition  False\n",
      "Sell Condition  False\n",
      "\n",
      "Running Epoch 6/1000000000000000\n"
     ]
    },
    {
     "name": "stderr",
     "output_type": "stream",
     "text": [
      "[========================================================================] 100%\n"
     ]
    },
    {
     "name": "stdout",
     "output_type": "stream",
     "text": [
      "No Trading Signal Triggered\n",
      "Executed Time : 2019-12-25 12:19:28.781993\n"
     ]
    },
    {
     "name": "stderr",
     "output_type": "stream",
     "text": [
      "[=======                                                                 ]  10%\r"
     ]
    },
    {
     "name": "stdout",
     "output_type": "stream",
     "text": [
      "              Time      Open      High       Low     Close\n",
      "8635  1.577293e+12  0.017372  0.017376  0.017355  0.017372\n",
      "8636  1.577294e+12  0.017373  0.017373  0.017340  0.017342\n",
      "8637  1.577294e+12  0.017342  0.017362  0.017323  0.017333\n",
      "8638  1.577294e+12  0.017334  0.017357  0.017334  0.017346\n",
      "8639  1.577294e+12  0.017348  0.017350  0.017333  0.017333\n",
      "Previous Close | Previous MA High | Previous MA Low\n",
      "    0.017333           0.017303           0.017272\n",
      "Recent Close | Recent MA High | Recent MA Low\n",
      "    0.017346         0.017304        0.017273\n",
      "Buy Condition  False\n",
      "Sell Condition  False\n",
      "\n",
      "Running Epoch 7/1000000000000000\n"
     ]
    },
    {
     "name": "stderr",
     "output_type": "stream",
     "text": [
      "[========================================================================] 100%\n"
     ]
    },
    {
     "name": "stdout",
     "output_type": "stream",
     "text": [
      "No Trading Signal Triggered\n",
      "Executed Time : 2019-12-25 12:21:41.964641\n"
     ]
    },
    {
     "name": "stderr",
     "output_type": "stream",
     "text": [
      "[=======                                                                 ]  10%\r"
     ]
    },
    {
     "name": "stdout",
     "output_type": "stream",
     "text": [
      "              Time      Open      High       Low     Close\n",
      "8635  1.577293e+12  0.017372  0.017376  0.017355  0.017372\n",
      "8636  1.577294e+12  0.017373  0.017373  0.017340  0.017342\n",
      "8637  1.577294e+12  0.017342  0.017362  0.017323  0.017333\n",
      "8638  1.577294e+12  0.017334  0.017357  0.017334  0.017346\n",
      "8639  1.577294e+12  0.017348  0.017350  0.017330  0.017345\n",
      "Previous Close | Previous MA High | Previous MA Low\n",
      "    0.017333           0.017303           0.017272\n",
      "Recent Close | Recent MA High | Recent MA Low\n",
      "    0.017346         0.017304        0.017273\n",
      "Buy Condition  False\n",
      "Sell Condition  False\n",
      "\n",
      "Running Epoch 8/1000000000000000\n"
     ]
    },
    {
     "name": "stderr",
     "output_type": "stream",
     "text": [
      "[========================================================================] 100%\n"
     ]
    },
    {
     "name": "stdout",
     "output_type": "stream",
     "text": [
      "No Trading Signal Triggered\n",
      "Executed Time : 2019-12-25 12:23:57.489100\n"
     ]
    },
    {
     "name": "stderr",
     "output_type": "stream",
     "text": [
      "[=======                                                                 ]  10%\r"
     ]
    },
    {
     "name": "stdout",
     "output_type": "stream",
     "text": [
      "              Time      Open      High       Low     Close\n",
      "8635  1.577294e+12  0.017373  0.017373  0.017340  0.017342\n",
      "8636  1.577294e+12  0.017342  0.017362  0.017323  0.017333\n",
      "8637  1.577294e+12  0.017334  0.017357  0.017334  0.017346\n",
      "8638  1.577294e+12  0.017348  0.017358  0.017330  0.017354\n",
      "8639  1.577295e+12  0.017357  0.017363  0.017350  0.017363\n",
      "Previous Close | Previous MA High | Previous MA Low\n",
      "    0.017346           0.017304           0.017273\n",
      "Recent Close | Recent MA High | Recent MA Low\n",
      "    0.017354         0.017305        0.017274\n",
      "Buy Condition  False\n",
      "Sell Condition  False\n",
      "\n",
      "Running Epoch 9/1000000000000000\n"
     ]
    },
    {
     "name": "stderr",
     "output_type": "stream",
     "text": [
      "[========================================================================] 100%\n"
     ]
    },
    {
     "name": "stdout",
     "output_type": "stream",
     "text": [
      "No Trading Signal Triggered\n",
      "Executed Time : 2019-12-25 12:26:14.829214\n"
     ]
    },
    {
     "name": "stderr",
     "output_type": "stream",
     "text": [
      "[=======                                                                 ]  10%\r"
     ]
    },
    {
     "name": "stdout",
     "output_type": "stream",
     "text": [
      "              Time      Open      High       Low     Close\n",
      "8635  1.577294e+12  0.017373  0.017373  0.017340  0.017342\n",
      "8636  1.577294e+12  0.017342  0.017362  0.017323  0.017333\n",
      "8637  1.577294e+12  0.017334  0.017357  0.017334  0.017346\n",
      "8638  1.577294e+12  0.017348  0.017358  0.017330  0.017354\n",
      "8639  1.577295e+12  0.017357  0.017363  0.017350  0.017355\n",
      "Previous Close | Previous MA High | Previous MA Low\n",
      "    0.017346           0.017304           0.017273\n",
      "Recent Close | Recent MA High | Recent MA Low\n",
      "    0.017354         0.017305        0.017274\n",
      "Buy Condition  False\n",
      "Sell Condition  False\n",
      "\n",
      "Running Epoch 10/1000000000000000\n"
     ]
    },
    {
     "name": "stderr",
     "output_type": "stream",
     "text": [
      "[========================================================================] 100%\n"
     ]
    },
    {
     "name": "stdout",
     "output_type": "stream",
     "text": [
      "No Trading Signal Triggered\n",
      "Executed Time : 2019-12-25 12:28:30.753559\n"
     ]
    },
    {
     "name": "stderr",
     "output_type": "stream",
     "text": [
      "[=======                                                                 ]  10%\r"
     ]
    },
    {
     "name": "stdout",
     "output_type": "stream",
     "text": [
      "              Time      Open      High       Low     Close\n",
      "8635  1.577294e+12  0.017342  0.017362  0.017323  0.017333\n",
      "8636  1.577294e+12  0.017334  0.017357  0.017334  0.017346\n",
      "8637  1.577294e+12  0.017348  0.017358  0.017330  0.017354\n",
      "8638  1.577295e+12  0.017357  0.017363  0.017350  0.017363\n",
      "8639  1.577295e+12  0.017363  0.017363  0.017358  0.017360\n",
      "Previous Close | Previous MA High | Previous MA Low\n",
      "    0.017354           0.017305           0.017274\n",
      "Recent Close | Recent MA High | Recent MA Low\n",
      "    0.017363         0.017306        0.017276\n",
      "Buy Condition  False\n",
      "Sell Condition  False\n",
      "\n",
      "Running Epoch 11/1000000000000000\n"
     ]
    },
    {
     "name": "stderr",
     "output_type": "stream",
     "text": [
      "[========================================================================] 100%\n"
     ]
    },
    {
     "name": "stdout",
     "output_type": "stream",
     "text": [
      "No Trading Signal Triggered\n",
      "Executed Time : 2019-12-25 12:30:45.728302\n"
     ]
    },
    {
     "name": "stderr",
     "output_type": "stream",
     "text": [
      "[=======                                                                 ]  10%\r"
     ]
    },
    {
     "name": "stdout",
     "output_type": "stream",
     "text": [
      "              Time      Open      High       Low     Close\n",
      "8635  1.577294e+12  0.017342  0.017362  0.017323  0.017333\n",
      "8636  1.577294e+12  0.017334  0.017357  0.017334  0.017346\n",
      "8637  1.577294e+12  0.017348  0.017358  0.017330  0.017354\n",
      "8638  1.577295e+12  0.017357  0.017363  0.017350  0.017363\n",
      "8639  1.577295e+12  0.017363  0.017363  0.017354  0.017354\n",
      "Previous Close | Previous MA High | Previous MA Low\n",
      "    0.017354           0.017305           0.017274\n",
      "Recent Close | Recent MA High | Recent MA Low\n",
      "    0.017363         0.017306        0.017276\n",
      "Buy Condition  False\n",
      "Sell Condition  False\n",
      "\n",
      "Running Epoch 12/1000000000000000\n"
     ]
    },
    {
     "name": "stderr",
     "output_type": "stream",
     "text": [
      "[========================================================================] 100%\n"
     ]
    },
    {
     "name": "stdout",
     "output_type": "stream",
     "text": [
      "No Trading Signal Triggered\n",
      "Executed Time : 2019-12-25 12:33:00.573856\n"
     ]
    },
    {
     "name": "stderr",
     "output_type": "stream",
     "text": [
      "[=======                                                                 ]  10%\r"
     ]
    },
    {
     "name": "stdout",
     "output_type": "stream",
     "text": [
      "              Time      Open      High       Low     Close\n",
      "8635  1.577294e+12  0.017334  0.017357  0.017334  0.017346\n",
      "8636  1.577294e+12  0.017348  0.017358  0.017330  0.017354\n",
      "8637  1.577295e+12  0.017357  0.017363  0.017350  0.017363\n",
      "8638  1.577295e+12  0.017363  0.017364  0.017351  0.017358\n",
      "8639  1.577295e+12  0.017359  0.017359  0.017356  0.017357\n",
      "Previous Close | Previous MA High | Previous MA Low\n",
      "    0.017363           0.017306           0.017276\n",
      "Recent Close | Recent MA High | Recent MA Low\n",
      "    0.017358         0.017307        0.017277\n",
      "Buy Condition  False\n",
      "Sell Condition  False\n",
      "\n",
      "Running Epoch 13/1000000000000000\n"
     ]
    },
    {
     "name": "stderr",
     "output_type": "stream",
     "text": [
      "[========================================================================] 100%\n"
     ]
    },
    {
     "name": "stdout",
     "output_type": "stream",
     "text": [
      "No Trading Signal Triggered\n",
      "Executed Time : 2019-12-25 12:35:14.192940\n"
     ]
    },
    {
     "name": "stderr",
     "output_type": "stream",
     "text": [
      "[=======                                                                 ]  10%\r"
     ]
    },
    {
     "name": "stdout",
     "output_type": "stream",
     "text": [
      "              Time      Open      High       Low     Close\n",
      "8635  1.577294e+12  0.017334  0.017357  0.017334  0.017346\n",
      "8636  1.577294e+12  0.017348  0.017358  0.017330  0.017354\n",
      "8637  1.577295e+12  0.017357  0.017363  0.017350  0.017363\n",
      "8638  1.577295e+12  0.017363  0.017364  0.017351  0.017358\n",
      "8639  1.577295e+12  0.017359  0.017359  0.017349  0.017354\n",
      "Previous Close | Previous MA High | Previous MA Low\n",
      "    0.017363           0.017306           0.017276\n",
      "Recent Close | Recent MA High | Recent MA Low\n",
      "    0.017358         0.017307        0.017277\n",
      "Buy Condition  False\n",
      "Sell Condition  False\n",
      "\n",
      "Running Epoch 14/1000000000000000\n"
     ]
    },
    {
     "name": "stderr",
     "output_type": "stream",
     "text": [
      "[========================================================================] 100%\n"
     ]
    },
    {
     "name": "stdout",
     "output_type": "stream",
     "text": [
      "No Trading Signal Triggered\n",
      "Executed Time : 2019-12-25 12:37:28.367327\n"
     ]
    },
    {
     "name": "stderr",
     "output_type": "stream",
     "text": [
      "[=======                                                                 ]  10%\r"
     ]
    },
    {
     "name": "stdout",
     "output_type": "stream",
     "text": [
      "              Time      Open      High       Low     Close\n",
      "8635  1.577294e+12  0.017334  0.017357  0.017334  0.017346\n",
      "8636  1.577294e+12  0.017348  0.017358  0.017330  0.017354\n",
      "8637  1.577295e+12  0.017357  0.017363  0.017350  0.017363\n",
      "8638  1.577295e+12  0.017363  0.017364  0.017351  0.017358\n",
      "8639  1.577295e+12  0.017359  0.017359  0.017346  0.017346\n",
      "Previous Close | Previous MA High | Previous MA Low\n",
      "    0.017363           0.017306           0.017276\n",
      "Recent Close | Recent MA High | Recent MA Low\n",
      "    0.017358         0.017307        0.017277\n",
      "Buy Condition  False\n",
      "Sell Condition  False\n",
      "\n",
      "Running Epoch 15/1000000000000000\n"
     ]
    },
    {
     "name": "stderr",
     "output_type": "stream",
     "text": [
      "[========================================================================] 100%\n"
     ]
    },
    {
     "name": "stdout",
     "output_type": "stream",
     "text": [
      "No Trading Signal Triggered\n",
      "Executed Time : 2019-12-25 12:39:42.480743\n"
     ]
    },
    {
     "name": "stderr",
     "output_type": "stream",
     "text": [
      "[=======                                                                 ]  10%\r"
     ]
    },
    {
     "name": "stdout",
     "output_type": "stream",
     "text": [
      "              Time      Open      High       Low     Close\n",
      "8635  1.577294e+12  0.017348  0.017358  0.017330  0.017354\n",
      "8636  1.577295e+12  0.017357  0.017363  0.017350  0.017363\n",
      "8637  1.577295e+12  0.017363  0.017364  0.017351  0.017358\n",
      "8638  1.577295e+12  0.017359  0.017359  0.017346  0.017348\n",
      "8639  1.577296e+12  0.017348  0.017354  0.017345  0.017350\n",
      "Previous Close | Previous MA High | Previous MA Low\n",
      "    0.017358           0.017307           0.017277\n",
      "Recent Close | Recent MA High | Recent MA Low\n",
      "    0.017348         0.017308        0.017279\n",
      "Buy Condition  False\n",
      "Sell Condition  False\n",
      "\n",
      "Running Epoch 16/1000000000000000\n"
     ]
    },
    {
     "name": "stderr",
     "output_type": "stream",
     "text": [
      "[========================================================================] 100%\n"
     ]
    },
    {
     "name": "stdout",
     "output_type": "stream",
     "text": [
      "No Trading Signal Triggered\n",
      "Executed Time : 2019-12-25 12:41:57.571928\n"
     ]
    },
    {
     "name": "stderr",
     "output_type": "stream",
     "text": [
      "[=======                                                                 ]  10%\r"
     ]
    },
    {
     "name": "stdout",
     "output_type": "stream",
     "text": [
      "              Time      Open      High       Low     Close\n",
      "8635  1.577294e+12  0.017348  0.017358  0.017330  0.017354\n",
      "8636  1.577295e+12  0.017357  0.017363  0.017350  0.017363\n",
      "8637  1.577295e+12  0.017363  0.017364  0.017351  0.017358\n",
      "8638  1.577295e+12  0.017359  0.017359  0.017346  0.017348\n",
      "8639  1.577296e+12  0.017348  0.017354  0.017344  0.017347\n",
      "Previous Close | Previous MA High | Previous MA Low\n",
      "    0.017358           0.017307           0.017277\n",
      "Recent Close | Recent MA High | Recent MA Low\n",
      "    0.017348         0.017308        0.017279\n",
      "Buy Condition  False\n",
      "Sell Condition  False\n",
      "\n",
      "Running Epoch 17/1000000000000000\n"
     ]
    },
    {
     "name": "stderr",
     "output_type": "stream",
     "text": [
      "[========================================================================] 100%\n"
     ]
    },
    {
     "name": "stdout",
     "output_type": "stream",
     "text": [
      "No Trading Signal Triggered\n",
      "Executed Time : 2019-12-25 12:44:11.980083\n"
     ]
    },
    {
     "name": "stderr",
     "output_type": "stream",
     "text": [
      "[=======                                                                 ]  10%\r"
     ]
    },
    {
     "name": "stdout",
     "output_type": "stream",
     "text": [
      "              Time      Open      High       Low     Close\n",
      "8635  1.577295e+12  0.017357  0.017363  0.017350  0.017363\n",
      "8636  1.577295e+12  0.017363  0.017364  0.017351  0.017358\n",
      "8637  1.577295e+12  0.017359  0.017359  0.017346  0.017348\n",
      "8638  1.577296e+12  0.017348  0.017381  0.017344  0.017368\n",
      "8639  1.577296e+12  0.017369  0.017373  0.017363  0.017372\n",
      "Previous Close | Previous MA High | Previous MA Low\n",
      "    0.017348           0.017308           0.017279\n",
      "Recent Close | Recent MA High | Recent MA Low\n",
      "    0.017368         0.01731        0.01728\n",
      "Buy Condition  False\n",
      "Sell Condition  False\n",
      "\n",
      "Running Epoch 18/1000000000000000\n"
     ]
    },
    {
     "name": "stderr",
     "output_type": "stream",
     "text": [
      "[========================================================================] 100%\n"
     ]
    },
    {
     "name": "stdout",
     "output_type": "stream",
     "text": [
      "No Trading Signal Triggered\n",
      "Executed Time : 2019-12-25 12:46:26.799604\n"
     ]
    },
    {
     "name": "stderr",
     "output_type": "stream",
     "text": [
      "[=======                                                                 ]  10%\r"
     ]
    },
    {
     "name": "stdout",
     "output_type": "stream",
     "text": [
      "              Time      Open      High       Low     Close\n",
      "8635  1.577295e+12  0.017357  0.017363  0.017350  0.017363\n",
      "8636  1.577295e+12  0.017363  0.017364  0.017351  0.017358\n",
      "8637  1.577295e+12  0.017359  0.017359  0.017346  0.017348\n",
      "8638  1.577296e+12  0.017348  0.017381  0.017344  0.017368\n",
      "8639  1.577296e+12  0.017369  0.017385  0.017363  0.017385\n",
      "Previous Close | Previous MA High | Previous MA Low\n",
      "    0.017348           0.017308           0.017279\n",
      "Recent Close | Recent MA High | Recent MA Low\n",
      "    0.017368         0.01731        0.01728\n",
      "Buy Condition  False\n",
      "Sell Condition  False\n",
      "\n",
      "Running Epoch 19/1000000000000000\n"
     ]
    },
    {
     "name": "stderr",
     "output_type": "stream",
     "text": [
      "[========================================================================] 100%\n"
     ]
    },
    {
     "name": "stdout",
     "output_type": "stream",
     "text": [
      "No Trading Signal Triggered\n",
      "Executed Time : 2019-12-25 12:48:40.692696\n"
     ]
    },
    {
     "name": "stderr",
     "output_type": "stream",
     "text": [
      "[=======                                                                 ]  10%\r"
     ]
    },
    {
     "name": "stdout",
     "output_type": "stream",
     "text": [
      "              Time      Open      High       Low     Close\n",
      "8635  1.577295e+12  0.017363  0.017364  0.017351  0.017358\n",
      "8636  1.577295e+12  0.017359  0.017359  0.017346  0.017348\n",
      "8637  1.577296e+12  0.017348  0.017381  0.017344  0.017368\n",
      "8638  1.577296e+12  0.017369  0.017389  0.017363  0.017388\n",
      "8639  1.577296e+12  0.017388  0.017394  0.017387  0.017394\n",
      "Previous Close | Previous MA High | Previous MA Low\n",
      "    0.017368           0.01731           0.01728\n",
      "Recent Close | Recent MA High | Recent MA Low\n",
      "    0.017388         0.017312        0.017283\n",
      "Buy Condition  False\n",
      "Sell Condition  False\n",
      "\n",
      "Running Epoch 20/1000000000000000\n"
     ]
    },
    {
     "name": "stderr",
     "output_type": "stream",
     "text": [
      "[========================================================================] 100%\n"
     ]
    },
    {
     "name": "stdout",
     "output_type": "stream",
     "text": [
      "No Trading Signal Triggered\n",
      "Executed Time : 2019-12-25 12:50:55.279518\n"
     ]
    },
    {
     "name": "stderr",
     "output_type": "stream",
     "text": [
      "[=======                                                                 ]  10%\r"
     ]
    },
    {
     "name": "stdout",
     "output_type": "stream",
     "text": [
      "              Time      Open      High       Low     Close\n",
      "8635  1.577295e+12  0.017363  0.017364  0.017351  0.017358\n",
      "8636  1.577295e+12  0.017359  0.017359  0.017346  0.017348\n",
      "8637  1.577296e+12  0.017348  0.017381  0.017344  0.017368\n",
      "8638  1.577296e+12  0.017369  0.017389  0.017363  0.017388\n",
      "8639  1.577296e+12  0.017388  0.017394  0.017387  0.017392\n",
      "Previous Close | Previous MA High | Previous MA Low\n",
      "    0.017368           0.01731           0.01728\n",
      "Recent Close | Recent MA High | Recent MA Low\n",
      "    0.017388         0.017312        0.017283\n",
      "Buy Condition  False\n",
      "Sell Condition  False\n",
      "\n",
      "Running Epoch 21/1000000000000000\n"
     ]
    },
    {
     "name": "stderr",
     "output_type": "stream",
     "text": [
      "[========================================================================] 100%\n"
     ]
    },
    {
     "name": "stdout",
     "output_type": "stream",
     "text": [
      "No Trading Signal Triggered\n",
      "Executed Time : 2019-12-25 12:53:09.647348\n"
     ]
    },
    {
     "name": "stderr",
     "output_type": "stream",
     "text": [
      "[=======                                                                 ]  10%\r"
     ]
    },
    {
     "name": "stdout",
     "output_type": "stream",
     "text": [
      "              Time      Open      High       Low     Close\n",
      "8635  1.577295e+12  0.017359  0.017359  0.017346  0.017348\n",
      "8636  1.577296e+12  0.017348  0.017381  0.017344  0.017368\n",
      "8637  1.577296e+12  0.017369  0.017389  0.017363  0.017388\n",
      "8638  1.577296e+12  0.017388  0.017394  0.017387  0.017393\n",
      "8639  1.577296e+12  0.017391  0.017393  0.017390  0.017390\n",
      "Previous Close | Previous MA High | Previous MA Low\n",
      "    0.017388           0.017312           0.017283\n",
      "Recent Close | Recent MA High | Recent MA Low\n",
      "    0.017393         0.017314        0.017285\n",
      "Buy Condition  False\n",
      "Sell Condition  False\n",
      "\n",
      "Running Epoch 22/1000000000000000\n"
     ]
    },
    {
     "name": "stderr",
     "output_type": "stream",
     "text": [
      "[========================================================================] 100%\n"
     ]
    },
    {
     "name": "stdout",
     "output_type": "stream",
     "text": [
      "No Trading Signal Triggered\n",
      "Executed Time : 2019-12-25 12:55:24.511770\n"
     ]
    },
    {
     "name": "stderr",
     "output_type": "stream",
     "text": [
      "[=======                                                                 ]  10%\r"
     ]
    },
    {
     "name": "stdout",
     "output_type": "stream",
     "text": [
      "              Time      Open      High       Low     Close\n",
      "8635  1.577295e+12  0.017359  0.017359  0.017346  0.017348\n",
      "8636  1.577296e+12  0.017348  0.017381  0.017344  0.017368\n",
      "8637  1.577296e+12  0.017369  0.017389  0.017363  0.017388\n",
      "8638  1.577296e+12  0.017388  0.017394  0.017387  0.017393\n",
      "8639  1.577296e+12  0.017391  0.017393  0.017383  0.017384\n",
      "Previous Close | Previous MA High | Previous MA Low\n",
      "    0.017388           0.017312           0.017283\n",
      "Recent Close | Recent MA High | Recent MA Low\n",
      "    0.017393         0.017314        0.017285\n",
      "Buy Condition  False\n",
      "Sell Condition  False\n",
      "\n",
      "Running Epoch 23/1000000000000000\n"
     ]
    },
    {
     "name": "stderr",
     "output_type": "stream",
     "text": [
      "[========================================================================] 100%\n"
     ]
    },
    {
     "name": "stdout",
     "output_type": "stream",
     "text": [
      "No Trading Signal Triggered\n",
      "Executed Time : 2019-12-25 12:57:40.021518\n"
     ]
    },
    {
     "name": "stderr",
     "output_type": "stream",
     "text": [
      "[=======                                                                 ]  10%\r"
     ]
    },
    {
     "name": "stdout",
     "output_type": "stream",
     "text": [
      "              Time      Open      High       Low     Close\n",
      "8635  1.577295e+12  0.017359  0.017359  0.017346  0.017348\n",
      "8636  1.577296e+12  0.017348  0.017381  0.017344  0.017368\n",
      "8637  1.577296e+12  0.017369  0.017389  0.017363  0.017388\n",
      "8638  1.577296e+12  0.017388  0.017394  0.017387  0.017393\n",
      "8639  1.577296e+12  0.017391  0.017393  0.017375  0.017382\n",
      "Previous Close | Previous MA High | Previous MA Low\n",
      "    0.017388           0.017312           0.017283\n",
      "Recent Close | Recent MA High | Recent MA Low\n",
      "    0.017393         0.017314        0.017285\n",
      "Buy Condition  False\n",
      "Sell Condition  False\n",
      "\n",
      "Running Epoch 24/1000000000000000\n"
     ]
    },
    {
     "name": "stderr",
     "output_type": "stream",
     "text": [
      "[========================================================================] 100%\n"
     ]
    },
    {
     "name": "stdout",
     "output_type": "stream",
     "text": [
      "No Trading Signal Triggered\n",
      "Executed Time : 2019-12-25 12:59:55.283953\n"
     ]
    },
    {
     "name": "stderr",
     "output_type": "stream",
     "text": [
      "[=======                                                                 ]  10%\r"
     ]
    },
    {
     "name": "stdout",
     "output_type": "stream",
     "text": [
      "              Time      Open      High       Low     Close\n",
      "8635  1.577296e+12  0.017348  0.017381  0.017344  0.017368\n",
      "8636  1.577296e+12  0.017369  0.017389  0.017363  0.017388\n",
      "8637  1.577296e+12  0.017388  0.017394  0.017387  0.017393\n",
      "8638  1.577296e+12  0.017391  0.017393  0.017375  0.017378\n",
      "8639  1.577297e+12  0.017382  0.017382  0.017374  0.017375\n",
      "Previous Close | Previous MA High | Previous MA Low\n",
      "    0.017393           0.017314           0.017285\n",
      "Recent Close | Recent MA High | Recent MA Low\n",
      "    0.017378         0.017316        0.017288\n",
      "Buy Condition  False\n",
      "Sell Condition  False\n",
      "\n",
      "Running Epoch 25/1000000000000000\n"
     ]
    },
    {
     "name": "stderr",
     "output_type": "stream",
     "text": [
      "[========================================================================] 100%\n"
     ]
    },
    {
     "name": "stdout",
     "output_type": "stream",
     "text": [
      "No Trading Signal Triggered\n",
      "Executed Time : 2019-12-25 13:02:11.389243\n"
     ]
    },
    {
     "name": "stderr",
     "output_type": "stream",
     "text": [
      "[=======                                                                 ]  10%\r"
     ]
    },
    {
     "name": "stdout",
     "output_type": "stream",
     "text": [
      "              Time      Open      High       Low     Close\n",
      "8635  1.577296e+12  0.017348  0.017381  0.017344  0.017368\n",
      "8636  1.577296e+12  0.017369  0.017389  0.017363  0.017388\n",
      "8637  1.577296e+12  0.017388  0.017394  0.017387  0.017393\n",
      "8638  1.577296e+12  0.017391  0.017393  0.017375  0.017378\n",
      "8639  1.577297e+12  0.017382  0.017382  0.017374  0.017378\n",
      "Previous Close | Previous MA High | Previous MA Low\n",
      "    0.017393           0.017314           0.017285\n",
      "Recent Close | Recent MA High | Recent MA Low\n",
      "    0.017378         0.017316        0.017288\n",
      "Buy Condition  False\n",
      "Sell Condition  False\n",
      "\n",
      "Running Epoch 26/1000000000000000\n"
     ]
    },
    {
     "name": "stderr",
     "output_type": "stream",
     "text": [
      "[========================================================================] 100%\n"
     ]
    },
    {
     "name": "stdout",
     "output_type": "stream",
     "text": [
      "No Trading Signal Triggered\n",
      "Executed Time : 2019-12-25 13:04:26.618831\n"
     ]
    },
    {
     "name": "stderr",
     "output_type": "stream",
     "text": [
      "[=======                                                                 ]  10%\r"
     ]
    },
    {
     "name": "stdout",
     "output_type": "stream",
     "text": [
      "              Time      Open      High       Low     Close\n",
      "8635  1.577296e+12  0.017369  0.017389  0.017363  0.017388\n",
      "8636  1.577296e+12  0.017388  0.017394  0.017387  0.017393\n",
      "8637  1.577296e+12  0.017391  0.017393  0.017375  0.017378\n",
      "8638  1.577297e+12  0.017382  0.017382  0.017374  0.017379\n",
      "8639  1.577297e+12  0.017379  0.017379  0.017373  0.017376\n",
      "Previous Close | Previous MA High | Previous MA Low\n",
      "    0.017378           0.017316           0.017288\n",
      "Recent Close | Recent MA High | Recent MA Low\n",
      "    0.017379         0.017318        0.01729\n",
      "Buy Condition  False\n",
      "Sell Condition  False\n",
      "\n",
      "Running Epoch 27/1000000000000000\n"
     ]
    },
    {
     "name": "stderr",
     "output_type": "stream",
     "text": [
      "[========================================================================] 100%\n"
     ]
    },
    {
     "name": "stdout",
     "output_type": "stream",
     "text": [
      "No Trading Signal Triggered\n",
      "Executed Time : 2019-12-25 13:06:40.838568\n"
     ]
    },
    {
     "name": "stderr",
     "output_type": "stream",
     "text": [
      "[=======                                                                 ]  10%\r"
     ]
    },
    {
     "name": "stdout",
     "output_type": "stream",
     "text": [
      "              Time      Open      High       Low     Close\n",
      "8635  1.577296e+12  0.017369  0.017389  0.017363  0.017388\n",
      "8636  1.577296e+12  0.017388  0.017394  0.017387  0.017393\n",
      "8637  1.577296e+12  0.017391  0.017393  0.017375  0.017378\n",
      "8638  1.577297e+12  0.017382  0.017382  0.017374  0.017379\n",
      "8639  1.577297e+12  0.017379  0.017379  0.017367  0.017377\n",
      "Previous Close | Previous MA High | Previous MA Low\n",
      "    0.017378           0.017316           0.017288\n",
      "Recent Close | Recent MA High | Recent MA Low\n",
      "    0.017379         0.017318        0.01729\n",
      "Buy Condition  False\n",
      "Sell Condition  False\n",
      "\n",
      "Running Epoch 28/1000000000000000\n"
     ]
    },
    {
     "name": "stderr",
     "output_type": "stream",
     "text": [
      "[========================================================================] 100%\n"
     ]
    },
    {
     "name": "stdout",
     "output_type": "stream",
     "text": [
      "No Trading Signal Triggered\n",
      "Executed Time : 2019-12-25 13:08:58.332450\n"
     ]
    },
    {
     "name": "stderr",
     "output_type": "stream",
     "text": [
      "[=======                                                                 ]  10%\r"
     ]
    },
    {
     "name": "stdout",
     "output_type": "stream",
     "text": [
      "              Time      Open      High       Low     Close\n",
      "8635  1.577296e+12  0.017388  0.017394  0.017387  0.017393\n",
      "8636  1.577296e+12  0.017391  0.017393  0.017375  0.017378\n",
      "8637  1.577297e+12  0.017382  0.017382  0.017374  0.017379\n",
      "8638  1.577297e+12  0.017379  0.017379  0.017367  0.017375\n",
      "8639  1.577297e+12  0.017374  0.017382  0.017371  0.017380\n",
      "Previous Close | Previous MA High | Previous MA Low\n",
      "    0.017379           0.017318           0.01729\n",
      "Recent Close | Recent MA High | Recent MA Low\n",
      "    0.017375         0.01732        0.017293\n",
      "Buy Condition  False\n",
      "Sell Condition  False\n",
      "\n",
      "Running Epoch 29/1000000000000000\n"
     ]
    },
    {
     "name": "stderr",
     "output_type": "stream",
     "text": [
      "[========================================================================] 100%\n"
     ]
    },
    {
     "name": "stdout",
     "output_type": "stream",
     "text": [
      "No Trading Signal Triggered\n",
      "Executed Time : 2019-12-25 13:11:13.084169\n"
     ]
    },
    {
     "name": "stderr",
     "output_type": "stream",
     "text": [
      "[=======                                                                 ]  10%\r"
     ]
    },
    {
     "name": "stdout",
     "output_type": "stream",
     "text": [
      "              Time      Open      High       Low     Close\n",
      "8635  1.577296e+12  0.017388  0.017394  0.017387  0.017393\n",
      "8636  1.577296e+12  0.017391  0.017393  0.017375  0.017378\n",
      "8637  1.577297e+12  0.017382  0.017382  0.017374  0.017379\n",
      "8638  1.577297e+12  0.017379  0.017379  0.017367  0.017375\n",
      "8639  1.577297e+12  0.017374  0.017382  0.017370  0.017378\n",
      "Previous Close | Previous MA High | Previous MA Low\n",
      "    0.017379           0.017318           0.01729\n",
      "Recent Close | Recent MA High | Recent MA Low\n",
      "    0.017375         0.01732        0.017293\n",
      "Buy Condition  False\n",
      "Sell Condition  False\n",
      "\n",
      "Running Epoch 30/1000000000000000\n"
     ]
    },
    {
     "name": "stderr",
     "output_type": "stream",
     "text": [
      "[========================================================================] 100%\n"
     ]
    },
    {
     "name": "stdout",
     "output_type": "stream",
     "text": [
      "No Trading Signal Triggered\n",
      "Executed Time : 2019-12-25 13:13:29.290552\n"
     ]
    },
    {
     "name": "stderr",
     "output_type": "stream",
     "text": [
      "[=======                                                                 ]  10%\r"
     ]
    },
    {
     "name": "stdout",
     "output_type": "stream",
     "text": [
      "              Time      Open      High       Low     Close\n",
      "8635  1.577296e+12  0.017391  0.017393  0.017375  0.017378\n",
      "8636  1.577297e+12  0.017382  0.017382  0.017374  0.017379\n",
      "8637  1.577297e+12  0.017379  0.017379  0.017367  0.017375\n",
      "8638  1.577297e+12  0.017374  0.017382  0.017370  0.017379\n",
      "8639  1.577298e+12  0.017379  0.017379  0.017371  0.017374\n",
      "Previous Close | Previous MA High | Previous MA Low\n",
      "    0.017375           0.01732           0.017293\n",
      "Recent Close | Recent MA High | Recent MA Low\n",
      "    0.017379         0.017321        0.017294\n",
      "Buy Condition  False\n",
      "Sell Condition  False\n",
      "\n",
      "Running Epoch 31/1000000000000000\n"
     ]
    },
    {
     "name": "stderr",
     "output_type": "stream",
     "text": [
      "[========================================================================] 100%\n"
     ]
    },
    {
     "name": "stdout",
     "output_type": "stream",
     "text": [
      "No Trading Signal Triggered\n",
      "Executed Time : 2019-12-25 13:15:47.656710\n"
     ]
    },
    {
     "name": "stderr",
     "output_type": "stream",
     "text": [
      "[=======                                                                 ]  10%\r"
     ]
    },
    {
     "name": "stdout",
     "output_type": "stream",
     "text": [
      "              Time      Open      High       Low     Close\n",
      "8635  1.577296e+12  0.017391  0.017393  0.017375  0.017378\n",
      "8636  1.577297e+12  0.017382  0.017382  0.017374  0.017379\n",
      "8637  1.577297e+12  0.017379  0.017379  0.017367  0.017375\n",
      "8638  1.577297e+12  0.017374  0.017382  0.017370  0.017379\n",
      "8639  1.577298e+12  0.017379  0.017390  0.017371  0.017378\n",
      "Previous Close | Previous MA High | Previous MA Low\n",
      "    0.017375           0.01732           0.017293\n",
      "Recent Close | Recent MA High | Recent MA Low\n",
      "    0.017379         0.017321        0.017294\n",
      "Buy Condition  False\n",
      "Sell Condition  False\n",
      "\n",
      "Running Epoch 32/1000000000000000\n"
     ]
    },
    {
     "name": "stderr",
     "output_type": "stream",
     "text": [
      "[========================================================================] 100%\n"
     ]
    },
    {
     "name": "stdout",
     "output_type": "stream",
     "text": [
      "No Trading Signal Triggered\n",
      "Executed Time : 2019-12-25 13:18:02.337250\n"
     ]
    },
    {
     "name": "stderr",
     "output_type": "stream",
     "text": [
      "[=======                                                                 ]  10%\r"
     ]
    },
    {
     "name": "stdout",
     "output_type": "stream",
     "text": [
      "              Time      Open      High       Low     Close\n",
      "8635  1.577297e+12  0.017382  0.017382  0.017374  0.017379\n",
      "8636  1.577297e+12  0.017379  0.017379  0.017367  0.017375\n",
      "8637  1.577297e+12  0.017374  0.017382  0.017370  0.017379\n",
      "8638  1.577298e+12  0.017379  0.017390  0.017371  0.017377\n",
      "8639  1.577298e+12  0.017376  0.017379  0.017375  0.017375\n",
      "Previous Close | Previous MA High | Previous MA Low\n",
      "    0.017379           0.017321           0.017294\n",
      "Recent Close | Recent MA High | Recent MA Low\n",
      "    0.017377         0.017323        0.017296\n",
      "Buy Condition  False\n",
      "Sell Condition  False\n",
      "\n",
      "Running Epoch 33/1000000000000000\n"
     ]
    },
    {
     "name": "stderr",
     "output_type": "stream",
     "text": [
      "[========================================================================] 100%\n"
     ]
    },
    {
     "name": "stdout",
     "output_type": "stream",
     "text": [
      "No Trading Signal Triggered\n",
      "Executed Time : 2019-12-25 13:20:17.853656\n",
      "              Time      Open      High       Low     Close\n",
      "8635  1.577297e+12  0.017382  0.017382  0.017374  0.017379\n",
      "8636  1.577297e+12  0.017379  0.017379  0.017367  0.017375\n",
      "8637  1.577297e+12  0.017374  0.017382  0.017370  0.017379\n",
      "8638  1.577298e+12  0.017379  0.017390  0.017371  0.017377\n",
      "8639  1.577298e+12  0.017376  0.017385  0.017368  0.017371\n"
     ]
    },
    {
     "name": "stderr",
     "output_type": "stream",
     "text": [
      "[=======                                                                 ]  10%\r"
     ]
    },
    {
     "name": "stdout",
     "output_type": "stream",
     "text": [
      "Previous Close | Previous MA High | Previous MA Low\n",
      "    0.017379           0.017321           0.017294\n",
      "Recent Close | Recent MA High | Recent MA Low\n",
      "    0.017377         0.017323        0.017296\n",
      "Buy Condition  False\n",
      "Sell Condition  False\n",
      "\n",
      "Running Epoch 34/1000000000000000\n"
     ]
    },
    {
     "name": "stderr",
     "output_type": "stream",
     "text": [
      "[========================================================================] 100%\n"
     ]
    },
    {
     "name": "stdout",
     "output_type": "stream",
     "text": [
      "No Trading Signal Triggered\n",
      "Executed Time : 2019-12-25 13:22:33.057739\n"
     ]
    },
    {
     "name": "stderr",
     "output_type": "stream",
     "text": [
      "[=======                                                                 ]  10%\r"
     ]
    },
    {
     "name": "stdout",
     "output_type": "stream",
     "text": [
      "              Time      Open      High       Low     Close\n",
      "8635  1.577297e+12  0.017382  0.017382  0.017374  0.017379\n",
      "8636  1.577297e+12  0.017379  0.017379  0.017367  0.017375\n",
      "8637  1.577297e+12  0.017374  0.017382  0.017370  0.017379\n",
      "8638  1.577298e+12  0.017379  0.017390  0.017371  0.017377\n",
      "8639  1.577298e+12  0.017376  0.017385  0.017364  0.017377\n",
      "Previous Close | Previous MA High | Previous MA Low\n",
      "    0.017379           0.017321           0.017294\n",
      "Recent Close | Recent MA High | Recent MA Low\n",
      "    0.017377         0.017323        0.017296\n",
      "Buy Condition  False\n",
      "Sell Condition  False\n",
      "\n",
      "Running Epoch 35/1000000000000000\n"
     ]
    },
    {
     "name": "stderr",
     "output_type": "stream",
     "text": [
      "[========================================================================] 100%\n"
     ]
    },
    {
     "name": "stdout",
     "output_type": "stream",
     "text": [
      "No Trading Signal Triggered\n",
      "Executed Time : 2019-12-25 13:24:48.519063\n"
     ]
    },
    {
     "name": "stderr",
     "output_type": "stream",
     "text": [
      "[=======                                                                 ]  10%\r"
     ]
    },
    {
     "name": "stdout",
     "output_type": "stream",
     "text": [
      "              Time      Open      High       Low     Close\n",
      "8635  1.577297e+12  0.017379  0.017379  0.017367  0.017375\n",
      "8636  1.577297e+12  0.017374  0.017382  0.017370  0.017379\n",
      "8637  1.577298e+12  0.017379  0.017390  0.017371  0.017377\n",
      "8638  1.577298e+12  0.017376  0.017385  0.017364  0.017377\n",
      "8639  1.577298e+12  0.017378  0.017391  0.017377  0.017387\n",
      "Previous Close | Previous MA High | Previous MA Low\n",
      "    0.017377           0.017323           0.017296\n",
      "Recent Close | Recent MA High | Recent MA Low\n",
      "    0.017377         0.017324        0.017297\n",
      "Buy Condition  False\n",
      "Sell Condition  False\n",
      "\n",
      "Running Epoch 36/1000000000000000\n"
     ]
    },
    {
     "name": "stderr",
     "output_type": "stream",
     "text": [
      "[========================================================================] 100%\n"
     ]
    },
    {
     "name": "stdout",
     "output_type": "stream",
     "text": [
      "No Trading Signal Triggered\n",
      "Executed Time : 2019-12-25 13:27:03.188727\n"
     ]
    },
    {
     "name": "stderr",
     "output_type": "stream",
     "text": [
      "[=======                                                                 ]  10%\r"
     ]
    },
    {
     "name": "stdout",
     "output_type": "stream",
     "text": [
      "              Time      Open      High       Low     Close\n",
      "8635  1.577297e+12  0.017379  0.017379  0.017367  0.017375\n",
      "8636  1.577297e+12  0.017374  0.017382  0.017370  0.017379\n",
      "8637  1.577298e+12  0.017379  0.017390  0.017371  0.017377\n",
      "8638  1.577298e+12  0.017376  0.017385  0.017364  0.017377\n",
      "8639  1.577298e+12  0.017378  0.017399  0.017377  0.017396\n",
      "Previous Close | Previous MA High | Previous MA Low\n",
      "    0.017377           0.017323           0.017296\n",
      "Recent Close | Recent MA High | Recent MA Low\n",
      "    0.017377         0.017324        0.017297\n",
      "Buy Condition  False\n",
      "Sell Condition  False\n",
      "\n",
      "Running Epoch 37/1000000000000000\n"
     ]
    },
    {
     "name": "stderr",
     "output_type": "stream",
     "text": [
      "[========================================================================] 100%\n"
     ]
    },
    {
     "name": "stdout",
     "output_type": "stream",
     "text": [
      "No Trading Signal Triggered\n",
      "Executed Time : 2019-12-25 13:29:17.764093\n"
     ]
    }
   ],
   "source": [
    "\n",
    "import sys,os,datetime\n",
    "import numpy as np\n",
    "import pandas as pd\n",
    "from binance.client import Client\n",
    "import time\n",
    "import progressbar\n",
    "import matplotlib\n",
    "from matplotlib import cm\n",
    "import matplotlib.pyplot as plt\n",
    "from binance.enums import *\n",
    "import mpl_finance\n",
    "# from BinanceKeys import BinanceKey1\n",
    "# sys.path.append('C:\\\\Users\\\\Admin\\\\python-binance-master\\\\examples')\n",
    "\n",
    "# os.chdir('C:/Users/Admin/python-binance-master/examples')\n",
    "# sys.path.append('C:/Users/Admin/python-binance-master/examples')\n",
    "\n",
    "import site\n",
    "site.addsitedir(r'C:\\\\Users\\\\Admin\\\\python-binance-master\\\\examples')\n",
    "\n",
    "import save_historical_data_Roibal\n",
    "from BinanceKeys import BinanceKey1\n",
    "# import technical_indicators\n",
    "\n",
    "api_key = BinanceKey1['api_key']\n",
    "api_secret = BinanceKey1['api_secret']\n",
    "\n",
    "client = Client(api_key, api_secret)\n",
    "\n",
    "# ================ Define variable values =================\n",
    "watch_list = ['ETHBTC','ADABTC','EOSBTC','XRPBTC']\n",
    "\n",
    "start_date = \"1 month ago UTC\"\n",
    "kline = Client.KLINE_INTERVAL_5MINUTE\n",
    "ping_interval = 120\n",
    "\n",
    "ma_length = 60\n",
    "# =========================================================\n",
    "\n",
    "# Test Orders first to check\n",
    "\n",
    "#Define Market Orders for ETH - Buy and sell\n",
    "# buy_order_eth = client.order_market_buy(symbol='ETHBTC',quantity=0.01)\n",
    "# sell_order_eth = client.order_market_sell(symbol='ETHBTC',quantity=0.01)\n",
    "\n",
    "# ================== Main Function ====================\n",
    "def run():\n",
    "    # get system status\n",
    "    #Create List of Crypto Pairs to Watch\n",
    "#     list_of_symbols = ['BTCUSDT', 'ETHUSDT', 'BNBUSDT','BNBBTC', 'ETHBTC', 'LTCBTC']\n",
    "\n",
    "    print(\"\\n\\n----------------------------------------------------------------------\\n\\n\")\n",
    "    print(\"Welcome to the Binance Bot Python Script\\nCreated 2019 by Manoj Shenoy\\n\")\n",
    "    print(\"You can also find this on github- https://www.github.com/manoj-shenoy\")\n",
    "    print(\"                                  https://www.github.com/stevens-morons\")\n",
    "    \n",
    "    time.sleep(5)\n",
    "#     try:\n",
    "#         #Example Visualizations of Coins\n",
    "        \n",
    "#         for coin in watch_list:\n",
    "            \n",
    "#             save_historical_data_Roibal.save_historic_klines_csv(coin,\n",
    "#                                                                  \"1 month ago UTC\", \"now UTC\",\n",
    "#                                                                  Client.KLINE_INTERVAL_4HOUR)\n",
    "#     except():\n",
    "#         pass\n",
    "    \n",
    "    #Get Status of Exchange & Account\n",
    "    try:\n",
    "        status = client.get_system_status()\n",
    "        print(\"\\nExchange Status: \", status)\n",
    "\n",
    "        #Account Withdrawal History Info\n",
    "#         withdraws = client.get_withdraw_history()\n",
    "#         print(\"\\nClient Withdraw History: \", withdraws)\n",
    "\n",
    "        #get Exchange Info\n",
    "#         info = client.get_exchange_info()\n",
    "#         print(\"\\nExchange Info (Limits): \", info)\n",
    "    \n",
    "    except():\n",
    "        pass\n",
    "\n",
    "    # place a test market buy order, to place an actual order use the create_order function\n",
    "    # if '1000 ms ahead of server time' error encountered, visit https://github.com/sammchardy/python-binance/issues/249\n",
    "#     try:\n",
    "#         order = client.create_test_order(\n",
    "#             symbol='ETHBTC',\n",
    "#             side=Client.SIDE_BUY,\n",
    "#             type=Client.ORDER_TYPE_MARKET,\n",
    "#             quantity=0.0001)\n",
    "#     except:\n",
    "#         print(\"\\n \\n \\nATTENTION: NON-VALID CONNECTION WITH BINANCE \\n \\n \\n\")\n",
    "\n",
    "    #Get Info about Coins in Watch List\n",
    "    coin_prices(watch_list=watch_list)\n",
    "    coin_tickers(watch_list=watch_list)\n",
    "    \n",
    "    # Get historical data using Klines DatFrame\n",
    "#     data_eth = create_klines_df(symbol='ETHBTC',start_date=start_date,kline=kline)\n",
    "    \n",
    "    # Delete any old files\n",
    "#     remove_files(csv='Binance_ETHBTC.txt')\n",
    "#     remove_files(csv='Binance_ADABTC.txt')\n",
    "#     remove_files(csv='Binance_EOSBTC.txt')\n",
    "    \n",
    "    # Save Historical Data for Coins\n",
    "#     save_coin_files(start_date=start_date,kline=kline) # Currently ETHBTC, ADABTC, EOSBTC\n",
    "    \n",
    "\n",
    "#     data_eth = read_coin_files(csv='Binance_ETHBTC.txt')\n",
    "    \n",
    "#     print(data_eth.columns)\n",
    "#     print('ETH Binance data below\\n')\n",
    "#     print(data_eth)\n",
    "#     data_ada = read_coin_files(csv='Binance_ADABTC.txt')\n",
    "#     data_eos = read_coin_files(csv='Binance_EOSBTC.txt')\n",
    "    \n",
    "    #for symbol in list_of_symbols:\n",
    "    #    market_depth(symbol)\n",
    "    \n",
    "    # ===== Run all bots here ======\n",
    "    mabandsbot(symbol='ETHBTC',ping_interval=ping_interval)\n",
    "#     mabandsbot(historical_data=data_ada,symbol='ADABTC',wait_time=60)\n",
    "#     mabandsbot(historical_data=data_eos,symbol='EOSBTC',wait_time=60)\n",
    "    \n",
    "    try:\n",
    "        for symbol in watch_list:\n",
    "            #get recent trades\n",
    "            trades = client.get_recent_trades(symbol=symbol)\n",
    "            print(\"\\nRecent Trades: \", trades)\n",
    "            print(\"Local Time: \", time.localtime())\n",
    "            print(\"Recent Trades Time: \", convert_time_binance(trades[0]['time']))\n",
    "\n",
    "            #get historical trades\n",
    "            hist_trades = client.get_historical_trades(symbol=symbol)\n",
    "            print(\"\\nHistorical Trades: \", hist_trades)\n",
    "            \n",
    "            #get aggregate trades\n",
    "            agg_trades = client.get_aggregate_trades(symbol=symbol)\n",
    "            print(\"\\nAggregate Trades: \", agg_trades)\n",
    "    except:\n",
    "        print('\\n \\n \\nATTENTION: NON VALID CONNECTION WITH BINANCE \\n \\n \\n')\n",
    "\n",
    "\n",
    "def convert_time_binance(gt):\n",
    "    #Converts from Binance Time Format (milliseconds) to time-struct\n",
    "    #From Binance-Trader Comment Section Code\n",
    "    #gt = client.get_server_time()\n",
    "    print(\"Binance Time: \", gt)\n",
    "    print(time.localtime())\n",
    "    aa = str(gt)\n",
    "    bb = aa.replace(\"{'serverTime': \",\"\")\n",
    "    aa = bb.replace(\"}\",\"\")\n",
    "    gg=int(aa)\n",
    "    ff=gg-10799260\n",
    "    uu=ff/1000\n",
    "    yy=int(uu)\n",
    "    tt=time.localtime(yy)\n",
    "    #print(tt)\n",
    "    return tt\n",
    "\n",
    "\n",
    "def market_depth(sym, num_entries=20):\n",
    "    #Get market depth\n",
    "    #Retrieve and format market depth (order book) including time-stamp\n",
    "    i=0     #Used as a counter for number of entries\n",
    "    print(\"Order Book: \", convert_time_binance(client.get_server_time()))\n",
    "    depth = client.get_order_book(symbol=sym)\n",
    "    print(depth)\n",
    "    print(depth['asks'][0])\n",
    "    bid_tot,ask_tot=0.0\n",
    "    ask_price =[]\n",
    "    ask_quantity = []\n",
    "    bid_price = []\n",
    "    bid_quantity = []\n",
    "    place_order_ask_price,place_order_bid_price,max_order_ask,max_order_bid = 0\n",
    "\n",
    "    print(\"\\n\", sym, \"\\nDepth     ASKS:\\n\")\n",
    "    print(\"Price     Amount\")\n",
    "    for ask in depth['asks']:\n",
    "        if i<num_entries:\n",
    "            if float(ask[1])>float(max_order_ask):\n",
    "                #Determine Price to place ask order based on highest volume\n",
    "                max_order_ask=ask[1]\n",
    "                place_order_ask_price=round(float(ask[0]),5)-0.0001\n",
    "            #ask_list.append([ask[0], ask[1]])\n",
    "            ask_price.append(float(ask[0]))\n",
    "            ask_tot+=float(ask[1])\n",
    "            ask_quantity.append(ask_tot)\n",
    "            #print(ask)\n",
    "            i+=1\n",
    "    j=0     #Secondary Counter for Bids\n",
    "    print(\"\\n\", sym, \"\\nDepth     BIDS:\\n\")\n",
    "    print(\"Price     Amount\")\n",
    "    for bid in depth['bids']:\n",
    "        if j<num_entries:\n",
    "            if float(bid[1])>float(max_order_bid):\n",
    "                #Determine Price to place ask order based on highest volume\n",
    "                max_order_bid=bid[1]\n",
    "                place_order_bid_price=round(float(bid[0]),5)+0.0001\n",
    "            bid_price.append(float(bid[0]))\n",
    "            bid_tot += float(bid[1])\n",
    "            bid_quantity.append(bid_tot)\n",
    "            #print(bid)\n",
    "            j+=1\n",
    "    return ask_price, ask_quantity, bid_price, bid_quantity, place_order_ask_price, place_order_bid_price\n",
    "    #Plot Data\n",
    "\n",
    "# def scalping_orders(coin, wait=1, tot_time=1):\n",
    "#     #Function for placing 'scalp orders'\n",
    "#     #Calls on Visualizing Scalping Orders Function\n",
    "#     ap, aq, bp, bq, place_ask_order, place_bid_order, spread, proj_spread, max_bid, min_ask = visualize_market_depth(wait, tot_time, coin)\n",
    "#     print(\"Coin: {}\\nPrice to Place Ask Order: {}\\nPrice to place Bid Order: {}\".format(coin,place_ask_order, place_bid_order))\n",
    "#     print(\"Spread: {} % Projected Spread {} %\".format(spread, proj_spread))\n",
    "#     print(\"Max Bid: {} Min Ask: {}\".format(max_bid, min_ask))\n",
    "#     #Place Orders based on calculated bid-ask orders if projected > 0.05% (transaction fee)\n",
    "#    \n",
    "#     \"\"\"\n",
    "#     if proj_spread > 0.05:\n",
    "#         quant1=100          #Determine Code Required to calculate 'minimum' quantity\n",
    "#         #Place Bid Order:\n",
    "#         bid_order1 = client.order_limit_buy(\n",
    "#             symbol=coin,\n",
    "#             quantity=quant1,\n",
    "#             price=place_bid_order)\n",
    "#         #Place Ask Order\n",
    "#         ask_order1 = client.order_limit_sell(\n",
    "#             symbol=coin,\n",
    "#             quantity=quant1,\n",
    "#             price=place_ask_order)\n",
    "\n",
    "\n",
    "# Place second order if current spread > 0.05% (transaction fee)\n",
    "\n",
    "\n",
    "\n",
    "# def visualize_market_depth(wait_time_sec='1', tot_time='1', sym='ICXBNB', precision=5):\n",
    "#     cycles = int(tot_time)/int(wait_time_sec)\n",
    "#     start_time = time.asctime()\n",
    "#     fig, ax = plt.subplots()\n",
    "#     for i in range(1,int(cycles)+1):\n",
    "#         ask_pri, ask_quan, bid_pri, bid_quan, ask_order, bid_order = market_depth(sym)\n",
    "\n",
    "#         #print(ask_price)\n",
    "#         plt.plot(ask_pri, ask_quan, color = 'red', label='asks-cycle: {}'.format(i))\n",
    "#         plt.plot(bid_pri, bid_quan, color = 'blue', label = 'bids-cycle: {}'.format(i))\n",
    "\n",
    "#         #ax.plot(depth['bids'][0], depth['bids'][1])\n",
    "#         max_bid = max(bid_pri)\n",
    "#         min_ask = min(ask_pri)\n",
    "#         max_quant = max(ask_quan[-1], bid_quan[-1])\n",
    "#         spread = round(((min_ask-max_bid)/min_ask)*100,5)   #Spread based on market\n",
    "#         proj_order_spread = round(((ask_order-bid_order)/ask_order)*100, precision)\n",
    "#         price=round(((max_bid+min_ask)/2), precision)\n",
    "#         plt.plot([price, price],[0, max_quant], color = 'green', label = 'Price - Cycle: {}'.format(i)) #Vertical Line for Price\n",
    "#         plt.plot([ask_order, ask_order],[0, max_quant], color = 'black', label = 'Ask - Cycle: {}'.format(i))\n",
    "#         plt.plot([bid_order, bid_order],[0, max_quant], color = 'black', label = 'Buy - Cycle: {}'.format(i))\n",
    "#         #plt.plot([min_ask, min_ask],[0, max_quant], color = 'grey', label = 'Min Ask - Cycle: {}'.format(i))\n",
    "#         #plt.plot([max_bid, max_bid],[0, max_quant], color = 'grey', label = 'Max Buy - Cycle: {}'.format(i))\n",
    "#         ax.annotate(\"Max Bid: {} \\nMin Ask: {}\\nSpread: {} %\\nCycle: {}\\nPrice: {}\"\n",
    "#                     \"\\nPlace Bid: {} \\nPlace Ask: {}\\n Projected Spread: {} %\".format(max_bid, min_ask, spread, i, price, bid_order, ask_order, proj_order_spread),\n",
    "#                     xy=(max_bid, ask_quan[-1]), xytext=(max_bid, ask_quan[0]))\n",
    "#         if i==(cycles+1):\n",
    "#             break\n",
    "#         else:\n",
    "#             time.sleep(int(wait_time_sec))\n",
    "#     #end_time = time.asctime()\n",
    "#     ax.set(xlabel='Price', ylabel='Quantity',\n",
    "#        title='Binance Order Book: {} \\n {}\\n Cycle Time: {} seconds - Num Cycles: {}'.format(sym, start_time, wait_time_sec, cycles))\n",
    "#     plt.legend()\n",
    "#     plt.show()\n",
    "#     return ask_pri, ask_quan, bid_pri, bid_quan, ask_order, bid_order, spread, proj_order_spread, max_bid, min_ask\n",
    "\n",
    "\n",
    "def coin_prices(watch_list):\n",
    "    #Will print to screen, prices of coins on 'watch list'\n",
    "    #returns all prices\n",
    "    prices = client.get_all_tickers()\n",
    "    print(\"\\nSelected (watch list) Ticker Prices: \")\n",
    "    for price in prices:\n",
    "        if price['symbol'] in watch_list:\n",
    "            print(price)\n",
    "    return prices\n",
    "\n",
    "\n",
    "def coin_tickers(watch_list):\n",
    "    # Prints to screen tickers for 'watch list' coins\n",
    "    # Returns list of all price tickers\n",
    "    tickers = client.get_orderbook_tickers()\n",
    "    print(\"\\nWatch List Order Tickers: \\n\")\n",
    "    for tick in tickers:\n",
    "        if tick['symbol'] in watch_list:\n",
    "            print(tick)\n",
    "    return tickers\n",
    "\n",
    "def portfolio_management(deposit = '10000', withdraw=0, portfolio_amt = '0', portfolio_type='USDT', test_acct='True'):\n",
    "    \"\"\"The Portfolio Management Function will be used to track profit/loss of Portfolio in Any Particular Currency (Default: USDT)\"\"\"\n",
    "    #Maintain Portfolio Statistics (Total Profit/Loss) in a file\n",
    "    pass\n",
    "\n",
    "# Determine position size of each asset\n",
    "def position_sizing(symbol,percent_of_asset):\n",
    "    asset_balance=client.get_asset_balance(asset=symbol)\n",
    "    position_size=round(percent_of_asset * float(asset_balance['free']),4)\n",
    "    return position_size\n",
    "\n",
    "def create_klines_df(symbol,start_date,kline):\n",
    "    header=['Time','Open','High','Low','Close']\n",
    "    \n",
    "    klines=client.get_historical_klines(symbol, kline, start_date, \"now UTC\")\n",
    "    ohlc=[]\n",
    "    for kline in klines:\n",
    "\n",
    "        time1 = int(kline[0])\n",
    "        open1 = float(kline[1])\n",
    "        Low = float(kline[3])\n",
    "        High = float(kline[2])\n",
    "        Close = float(kline[4])\n",
    "        Volume = float(kline[5])\n",
    "#         format_kline = \"{}, {}, {}, {}, {}, {}\\n\".format(time, open1, High, Low, Close, Volume)\n",
    "        ohlc.append([time1, open1, High, Low, Close, Volume])\n",
    "    \n",
    "    klines=np.array(ohlc)\n",
    "\n",
    "    klines_reqd=klines[:,0:5]\n",
    "\n",
    "    klines_df=pd.DataFrame(klines_reqd,columns=header)\n",
    "    print(klines_df.tail(5))\n",
    "    return klines_df\n",
    "\n",
    "def remove_files(csv):\n",
    "    try:\n",
    "        os.remove(csv)\n",
    "        print('Old File removed!')\n",
    "    \n",
    "    except FileNotFoundError:\n",
    "        print('The system cannot find the file specified')\n",
    "\n",
    "# save ETH, ADA and EOS files by running save_historical_data\n",
    "def save_coin_files(start_date,kline):\n",
    "    for symbol in watch_list:\n",
    "        save_historical_data_Roibal.save_historic_klines_csv(symbol, start_date, \"now UTC\", kline)    \n",
    "        print('{}-Historical Data File saved '.format(symbol))\n",
    "\n",
    "\n",
    "def read_coin_files(csv):\n",
    "    read_data=pd.read_csv(csv, delimiter=',', encoding=\"utf-8-sig\")\n",
    "#     print(type(read_data))\n",
    "    return read_data\n",
    "\n",
    "# data = [data_eth,data_ada,data_eos]\n",
    "     \n",
    "#MACD, MACD Signal and MACD difference\n",
    "def MABands(df, n):\n",
    "    EMAHigh = pd.Series(df['High'].rolling(n).mean(),name='EMAHigh')\n",
    "    EMALow = pd.Series(df['Low'].rolling(n).mean(),name='EMALow')\n",
    "\n",
    "    df = df.join(EMAHigh)\n",
    "    df = df.join(EMALow)\n",
    "\n",
    "    return df\n",
    "\n",
    "def vol_burst():\n",
    "    pass        \n",
    "        \n",
    "def progress():\n",
    "    bar = progressbar.ProgressBar(maxval=20, \\\n",
    "        widgets=[progressbar.Bar('=', '[', ']'), ' ', progressbar.Percentage()])\n",
    "    bar.start()\n",
    "    for i in range(20):\n",
    "        bar.update(i+1)\n",
    "        time.sleep(0.1)\n",
    "    bar.finish()\n",
    "\n",
    "n=126    \n",
    "def mabandsbot(symbol,ping_interval=ping_interval):\n",
    "        \n",
    "    \n",
    "    # Initialise position\n",
    "    position=0\n",
    "    percent_of_asset=float(0.9)\n",
    "    trade_size = position_sizing(symbol=symbol[:3],\n",
    "                                 percent_of_asset=percent_of_asset)\n",
    "    num_cycles = 1e+15\n",
    "    for i in range(1,int(num_cycles)): \n",
    "    #     position=0\n",
    "        # Delete any old files\n",
    "#         remove_files(csv='Binance_ETHBTC.txt')\n",
    "#         remove_files(csv='Binance_ADABTC.txt')\n",
    "#         remove_files(csv='Binance_EOSBTC.txt')\n",
    "    \n",
    "#         Save Historical Data for Coins\n",
    "#         save_coin_files(start_date=start_date,kline=kline) # Currently ETHBTC, ADABTC, EOSBTC\n",
    "        \n",
    "        data_eth = create_klines_df(symbol='ETHBTC',start_date=start_date,kline=kline)\n",
    "        \n",
    "        ma_bands=MABands(df=data_eth,n=ma_length)\n",
    "        ma_high = ma_bands['EMAHigh']\n",
    "        ma_low = ma_bands['EMALow']\n",
    "        close = data_eth['Close']\n",
    "        \n",
    "        print('Previous Close | Previous MA High | Previous MA Low' )\n",
    "        print('    {}           {}           {}'.format(round(close.iloc[-3],6),\n",
    "                                                        round(ma_high.iloc[-3],6),\n",
    "                                                        round(ma_low.iloc[-3],6)))\n",
    "        \n",
    "        print('Recent Close | Recent MA High | Recent MA Low' )\n",
    "        print('    {}         {}        {}'.format(round(close.iloc[-2],6),\n",
    "                                                           round(ma_high.iloc[-2],6),\n",
    "                                                           round(ma_low.iloc[-2],6)))\n",
    "                \n",
    "        buy_condition = (close.iloc[-2] > ma_high.iloc[-2]) and (close.iloc[-3] < ma_high.iloc[-3]) and (position==0)\n",
    "        print('Buy Condition ', buy_condition)\n",
    "        \n",
    "        sell_condition = (close.iloc[-2] < ma_low.iloc[-2]) and (close.iloc[-3] > ma_low.iloc[-3]) and (position==0)\n",
    "        print('Sell Condition ', sell_condition)\n",
    "        \n",
    "        print ('\\nRunning Epoch {}/{}'.format(i,int(num_cycles)))\n",
    "        progress()\n",
    "        \n",
    "        if (close.iloc[-2] > ma_high.iloc[-2] and\n",
    "            close.iloc[-3] < ma_high.iloc[-3] and\n",
    "            position==0):\n",
    "            print('Buy Condition Triggered\\n')\n",
    "#             print('{}'.format(symbol)+' Bought at '+ '{}'.format(market_depth(symbol,num_entries=20)[0]))\n",
    "            client.order_market_buy(symbol=symbol,\n",
    "                                    quantity=trade_size)\n",
    "            position+=trade_size # change this to actual position size\n",
    "            print('{} Qty of {} Bought at {}'.format(trade_size,\n",
    "                                                     symbol,\n",
    "                                                     client.get_my_trades(symbol=symbol)[-1]['price']))\n",
    "        \n",
    "        elif (close.iloc[-2] < ma_low.iloc[-2] and\n",
    "              close.iloc[-3] > ma_low.iloc[-3] and\n",
    "              position==0):\n",
    "            print('Sell Condition Triggered\\n')\n",
    "#             print('{}'.format(symbol)+' Sold at '+ '{}'.format(market_depth(symbol,num_entries=20)[2]))\n",
    "            client.order_market_sell(symbol=symbol,\n",
    "                                     quantity=trade_size)\n",
    "            position-=trade_size\n",
    "            print('{} Qty of {} Sold at {}'.format(trade_size,\n",
    "                                                   symbol,\n",
    "                                                   client.get_my_trades(symbol=symbol)[-1]['price']))\n",
    "\n",
    "        if (position > 0 and close.iloc[-2] < ma_low.iloc[-2] and\n",
    "            close.iloc[-3] > ma_low.iloc[-3]):\n",
    "            print('Stop-Loss of Buy Position Triggered\\n')\n",
    "#             print('{}'.format(symbol)+' Sold at '+ '{}'.format(market_depth(symbol,num_entries=20)[2]))\n",
    "            client.order_market_sell(symbol=symbol,\n",
    "                                     quantity=position)\n",
    "            position=0\n",
    "            print('{} Qty of {} Stop-Loss- Sell triggered at {}'.format(position,\n",
    "                                                                        symbol,\n",
    "                                                                        client.get_my_trades(symbol=symbol)[-1]['price']))\n",
    "        \n",
    "        elif (position < 0 and close.iloc[-2] > ma_high.iloc[-2] and\n",
    "            close.iloc[-3] < ma_high.iloc[-3]):\n",
    "            print('Stop-Loss of Sell Position Triggered\\n')\n",
    "#             print('{}'.format(symbol)+' Bought at '+ '{}'.format(market_depth(symbol,num_entries=20)[0]))\n",
    "            client.order_market_buy(symbol=symbol,\n",
    "                                    quantity=abs(position))\n",
    "            position=0\n",
    "            print('{} Qty of {} Stop-Loss- Sell triggered at {}'.format(position,\n",
    "                                                                        symbol,\n",
    "                                                                        client.get_my_trades(symbol=symbol)[-1]['price']))\n",
    "\n",
    "        else:\n",
    "            print(\"No Trading Signal Triggered\")\n",
    "        \n",
    "        print('Executed Time :', datetime.datetime.now())\n",
    "        time.sleep(ping_interval)\n",
    "\n",
    "\"\"\"\n",
    "#trade aggregator (generator)\n",
    "agg_trades = client.aggregate_trade_iter(symbol='ETHBTC', start_str='30 minutes ago UTC')\n",
    "# iterate over the trade iterator\n",
    "for trade in agg_trades:\n",
    "    pass\n",
    "    #print(trade)\n",
    "    # do something with the trade data\n",
    "\n",
    "# convert the iterator to a list\n",
    "# note: generators can only be iterated over once so we need to call it again\n",
    "agg_trades = client.aggregate_trade_iter(symbol='ETHBTC', start_str='30 minutes ago UTC')\n",
    "agg_trade_list = list(agg_trades)\n",
    "\n",
    "# fetch 30 minute klines for the last month of 2017\n",
    "klines = client.get_historical_klines(\"ETHBTC\", Client.KLINE_INTERVAL_30MINUTE, \"1 Dec, 2017\", \"1 Jan, 2018\")\n",
    "#for kline in klines:\n",
    "    #print(kline)\n",
    "\"\"\"\n",
    "\n",
    "\n",
    "if __name__ == \"__main__\":\n",
    "    run()\n"
   ]
  },
  {
   "cell_type": "code",
   "execution_count": 41,
   "metadata": {},
   "outputs": [
    {
     "name": "stdout",
     "output_type": "stream",
     "text": [
      "[[1514764800000, 0.053586, 0.05375, 0.054042, 0.053474, 6805.697]]\n"
     ]
    }
   ],
   "source": [
    "klines=client.get_historical_klines(\"ETHBTC\", Client.KLINE_INTERVAL_30MINUTE, \"30 Dec, 2017\", \"1 Jan, 2018\")\n",
    "ohlc=[]\n",
    "for kline in klines:\n",
    "    #print(kline)\n",
    "    time1 = int(kline[0])\n",
    "    open1 = float(kline[1])\n",
    "    Low = float(kline[3])\n",
    "    High = float(kline[2])\n",
    "    Close = float(kline[4])\n",
    "    Volume = float(kline[5])\n",
    "\n",
    "ohlc.append([time1, open1, Close, High, Low, Volume])\n",
    "\n",
    "print(ohlc)"
   ]
  },
  {
   "cell_type": "code",
   "execution_count": 63,
   "metadata": {
    "scrolled": true
   },
   "outputs": [],
   "source": [
    "import numpy as np\n",
    "header=['Time','Open','High','Low','Close']\n",
    "klines=client.get_historical_klines(\"ETHBTC\", Client.KLINE_INTERVAL_30MINUTE, \"30 Dec, 2017\", \"1 Jan, 2018\")\n",
    "klines=np.array(klines)\n",
    "\n",
    "klines_1=klines[:,0:5]\n",
    "# print(klines_1)\n",
    "klines_2=pd.DataFrame(klines_1,columns=header)\n",
    "# print(klines_2)"
   ]
  },
  {
   "cell_type": "code",
   "execution_count": 37,
   "metadata": {
    "scrolled": false
   },
   "outputs": [
    {
     "data": {
      "text/plain": [
       "[1577232000000,\n",
       " '0.01760200',\n",
       " '0.01762200',\n",
       " '0.01730800',\n",
       " '0.01739000',\n",
       " '16841.08400000',\n",
       " 1577246399999,\n",
       " '293.33468444',\n",
       " 15641,\n",
       " '6844.20100000',\n",
       " '119.23647551',\n",
       " '0']"
      ]
     },
     "execution_count": 37,
     "metadata": {},
     "output_type": "execute_result"
    }
   ],
   "source": [
    "client.get_historical_klines(\"ETHBTC\",\n",
    "                             Client.KLINE_INTERVAL_4HOUR,\n",
    "                             \"1 Month ago UTC - 5\", \"now UTC - 5\")[-2]"
   ]
  }
 ],
 "metadata": {
  "kernelspec": {
   "display_name": "Python 3",
   "language": "python",
   "name": "python3"
  },
  "language_info": {
   "codemirror_mode": {
    "name": "ipython",
    "version": 3
   },
   "file_extension": ".py",
   "mimetype": "text/x-python",
   "name": "python",
   "nbconvert_exporter": "python",
   "pygments_lexer": "ipython3",
   "version": "3.7.3"
  }
 },
 "nbformat": 4,
 "nbformat_minor": 2
}
