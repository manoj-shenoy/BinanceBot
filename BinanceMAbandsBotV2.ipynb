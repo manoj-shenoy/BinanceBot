import sys,os,datetime
import numpy as np
import pandas as pd
from binance.client import Client
import time
import progressbar
import matplotlib
from matplotlib import cm
import matplotlib.pyplot as plt
from binance.enums import *
import mpl_finance
# from BinanceKeys import BinanceKey1
# sys.path.append('C:\\Users\\Admin\\python-binance-master\\examples')

# os.chdir('C:/Users/Admin/python-binance-master/examples')
# sys.path.append('C:/Users/Admin/python-binance-master/examples')

import site
site.addsitedir(r'C:\\Users\\Admin\\python-binance-master\\examples')

import save_historical_data_Roibal
from BinanceKeys import BinanceKey1
# import technical_indicators

api_key = BinanceKey1['api_key']
api_secret = BinanceKey1['api_secret']

client = Client(api_key, api_secret)

# ================ Define variable values =================
watch_list = ['ETHBTC','LINKBTC','XTZBTC','XRPBTC']

start_date = "1 month ago UTC"

# 4 Hr Time Frame is Optimal
kline = Client.KLINE_INTERVAL_1MINUTE # nomenclature kline is generic for ETHBTC pair
kline_xtz = Client.KLINE_INTERVAL_1DAY

# Time Interval when conditions are checked- 
# Ideally 5 mins or 10mins for Longer Timeframe systems is OK
ping_interval = 60

# ================== MA Band System paramaters ==================
ma_length = 10 
# Backtested as well as Forward tested Optimized Length is found to be 126 on a 4Hr TimeFrame
# ================================================================

# ================== MACD System Parameters =====================
slow_period,fast_period,signal = 12.0,26.0,9.0
# ===============================================================
trade_size_percent = 0.99 # How much of current asset balance should be traded - Trade size
# =========================================================

# Test Orders first to check

#Define Market Orders for ETH - Buy and sell
# buy_order_eth = client.order_market_buy(symbol='ETHBTC',quantity=0.01)
# sell_order_eth = client.order_market_sell(symbol='ETHBTC',quantity=0.01)

# ================== Main Function ====================
def run():
    # get system status
    #Create List of Crypto Pairs to Watch
#     list_of_symbols = ['BTCUSDT', 'ETHUSDT', 'BNBUSDT','BNBBTC', 'ETHBTC', 'LTCBTC']

    print("\n\n----------------------------------------------------------------------\n\n")
    print("Welcome to the Binance Bot Python Script\nCreated 2019 by Manoj Shenoy\n")
    print("You can also find this on github- https://www.github.com/manoj-shenoy")
    print("                                  https://www.github.com/stevens-morons")
    
    time.sleep(5)
#     try:
#         #Example Visualizations of Coins
        
#         for coin in watch_list:
            
#             save_historical_data_Roibal.save_historic_klines_csv(coin,
#                                                                  "1 month ago UTC", "now UTC",
#                                                                  Client.KLINE_INTERVAL_4HOUR)
#     except():
#         pass
    
    #Get Status of Exchange & Account
    try:
        status = client.get_system_status()
        print("\nExchange Status: ", status)

        #Account Withdrawal History Info
#         withdraws = client.get_withdraw_history()
#         print("\nClient Withdraw History: ", withdraws)

        #get Exchange Info
#         info = client.get_exchange_info()
#         print("\nExchange Info (Limits): ", info)
    
    except():
        pass

    # place a test market buy order, to place an actual order use the create_order function
    # if '1000 ms ahead of server time' error encountered, visit https://github.com/sammchardy/python-binance/issues/249
#     try:
#         order = client.create_test_order(
#             symbol='ETHBTC',
#             side=Client.SIDE_BUY,
#             type=Client.ORDER_TYPE_MARKET,
#             quantity=0.0001)
#     except:
#         print("\n \n \nATTENTION: NON-VALID CONNECTION WITH BINANCE \n \n \n")

    #Get Info about Coins in Watch List
    coin_prices(watch_list=watch_list)
    coin_tickers(watch_list=watch_list)
    
    # Get historical data using Klines DatFrame
#     data_eth = create_klines_df(symbol='ETHBTC',start_date=start_date,kline=kline)
    
    # Delete any old files
#     remove_files(csv='Binance_ETHBTC.txt')
#     remove_files(csv='Binance_ADABTC.txt')
#     remove_files(csv='Binance_EOSBTC.txt')
    
    # Save Historical Data for Coins
#     save_coin_files(start_date=start_date,kline=kline) # Currently ETHBTC, ADABTC, EOSBTC
    

#     data_eth = read_coin_files(csv='Binance_ETHBTC.txt')
    
#     print(data_eth.columns)
#     print('ETH Binance data below\n')
#     print(data_eth)
#     data_ada = read_coin_files(csv='Binance_ADABTC.txt')
#     data_eos = read_coin_files(csv='Binance_EOSBTC.txt')
    
    #for symbol in list_of_symbols:
    #    market_depth(symbol)
    
    # ===== Run all bots here ======
    mabandsbot(symbol='ETHBTC',ping_interval=ping_interval)
#     mabandsbot(historical_data=data_ada,symbol='ADABTC',wait_time=60)
#     mabandsbot(historical_data=data_eos,symbol='EOSBTC',wait_time=60)
    
    try:
        for symbol in watch_list:
            #get recent trades
            trades = client.get_recent_trades(symbol=symbol)
            print("\nRecent Trades: ", trades)
            print("Local Time: ", time.localtime())
            print("Recent Trades Time: ", convert_time_binance(trades[0]['time']))

            #get historical trades
            hist_trades = client.get_historical_trades(symbol=symbol)
            print("\nHistorical Trades: ", hist_trades)
            
            #get aggregate trades
            agg_trades = client.get_aggregate_trades(symbol=symbol)
            print("\nAggregate Trades: ", agg_trades)
    except:
        print('\n \n \nATTENTION: NON VALID CONNECTION WITH BINANCE \n \n \n')


def convert_time_binance(gt):
    #Converts from Binance Time Format (milliseconds) to time-struct
    #From Binance-Trader Comment Section Code
    #gt = client.get_server_time()
    print("Binance Time: ", gt)
    print(time.localtime())
    aa = str(gt)
    bb = aa.replace("{'serverTime': ","")
    aa = bb.replace("}","")
    gg=int(aa)
    ff=gg-10799260
    uu=ff/1000
    yy=int(uu)
    tt=time.localtime(yy)
    #print(tt)
    return tt

def coin_prices(watch_list):
    #Will print to screen, prices of coins on 'watch list'
    #returns all prices
    prices = client.get_all_tickers()
    print("\nSelected (watch list) Ticker Prices: ")
    for price in prices:
        if price['symbol'] in watch_list:
            print(price)
    return prices


def coin_tickers(watch_list):
    # Prints to screen tickers for 'watch list' coins
    # Returns list of all price tickers
    tickers = client.get_orderbook_tickers()
    print("\nWatch List Order Tickers: \n")
    for tick in tickers:
        if tick['symbol'] in watch_list:
            print(tick)
    return tickers

tickers = client.get_orderbook_tickers()

def best_bid_ask(symbol):
    for sym in tickers:
        if sym['symbol'] == symbol:
            BidPrice = float(sym['bidPrice'])
            AskPrice = float(sym['askPrice'])
    return BidPrice,AskPrice

def get_recent_trades(symbol):
    recent_trades = client.get_recent_trades(symbol=symbol)
    

def portfolio_management(deposit = '10000', withdraw=0, portfolio_amt = '0', portfolio_type='USDT', test_acct='True'):
    """The Portfolio Management Function will be used to track profit/loss of Portfolio in Any Particular Currency (Default: USDT)"""
    #Maintain Portfolio Statistics (Total Profit/Loss) in a file
    pass

# Determine sell and buy position size of each asset
# These two functions are same
'''
I realized that both buy and sell quantities on Binance are measured in ETH
Finally resolved this error!
'''
def buy_position_sizing(symbol,percent_of_asset):
    asset_balance=client.get_asset_balance(asset=symbol[0:3])
    position_size=round(percent_of_asset * float(asset_balance['free']),6)
    return float(position_size)

def sell_position_sizing(symbol,percent_of_asset):
    asset_balance=client.get_asset_balance(asset=symbol[0:3])
    position_size=round(percent_of_asset * float(asset_balance['free']),6)
    return float(position_size)


def create_klines_df(symbol,start_date,kline):
    header=['Time','Open','High','Low','Close']
    
    klines=client.get_historical_klines(symbol, kline, start_date, "now UTC")
    ohlc=[]
    for kline in klines:

        time1 = int(kline[0])
        open1 = float(kline[1])
        Low = float(kline[3])
        High = float(kline[2])
        Close = float(kline[4])
        Volume = float(kline[5])
#         format_kline = "{}, {}, {}, {}, {}, {}\n".format(time, open1, High, Low, Close, Volume)
        ohlc.append([time1, open1, High, Low, Close, Volume])
    
    klines=np.array(ohlc)

    klines_reqd=klines[:,0:5]

    klines_df=pd.DataFrame(klines_reqd,columns=header)
    print(klines_df.tail(5))
    return klines_df

def remove_files(csv):
    try:
        os.remove(csv)
        print('Old File removed!')
    
    except FileNotFoundError:
        print('The system cannot find the file specified')

# save ETH, ADA and EOS files by running save_historical_data
def save_coin_files(start_date,kline):
    for symbol in watch_list:
        save_historical_data_Roibal.save_historic_klines_csv(symbol, start_date, "now UTC", kline)    
        print('{}-Historical Data File saved '.format(symbol))


def read_coin_files(csv):
    read_data=pd.read_csv(csv, delimiter=',', encoding="utf-8-sig")
#     print(type(read_data))
    return read_data

# data = [data_eth,data_ada,data_eos]
     
#MACD, MACD Signal and MACD difference
def MABands(df, n):
    EMAHigh = pd.Series(df['High'].rolling(n).mean(),name='EMAHigh')
    EMALow = pd.Series(df['Low'].rolling(n).mean(),name='EMALow')

    df = df.join(EMAHigh)
    df = df.join(EMALow)

    return df

def vol_burst():
    pass        
        
def progress():
    bar = progressbar.ProgressBar(maxval=20, \
        widgets=[progressbar.Bar('=', '[', ']'), ' ', progressbar.Percentage()])
    bar.start()
    for i in range(20):
        bar.update(i+1)
        time.sleep(0.1)
    bar.finish()

from binance.enums import *
n=126    

def mabandsbot(symbol,ping_interval=ping_interval):        
    
    # Initialise position
    position=0
    percent_of_asset=float(trade_size_percent)
    buy_trade_size = buy_position_sizing(symbol,
                                 percent_of_asset=trade_size_percent)
    sell_trade_size = sell_position_sizing(symbol,
                                 percent_of_asset=trade_size_percent)
    
    num_cycles = 1e+15
    for i in range(1,int(num_cycles)): 
    #     position=0
        # Delete any old files
#         remove_files(csv='Binance_ETHBTC.txt')
#         remove_files(csv='Binance_ADABTC.txt')
#         remove_files(csv='Binance_EOSBTC.txt')
    
#         Save Historical Data for Coins
#         save_coin_files(start_date=start_date,kline=kline) # Currently ETHBTC, ADABTC, EOSBTC
        
        data_eth = create_klines_df(symbol='ETHBTC',start_date=start_date,kline=kline)
        
        ma_bands=MABands(df=data_eth,n=ma_length)
        ma_high = ma_bands['EMAHigh']
        ma_low = ma_bands['EMALow']
        close = data_eth['Close']
        
        print('Previous Close | Previous MA High | Previous MA Low' )
        print('    {}           {}           {}'.format(round(close.iloc[-3],6),
                                                        round(ma_high.iloc[-3],6),
                                                        round(ma_low.iloc[-3],6)))
        
        print('Recent Close | Recent MA High | Recent MA Low' )
        print('    {}         {}        {}'.format(round(close.iloc[-2],6),
                                                           round(ma_high.iloc[-2],6),
                                                           round(ma_low.iloc[-2],6)))
                
        buy_condition = (close.iloc[-2] > ma_high.iloc[-2]) and (close.iloc[-3] < ma_high.iloc[-3]) and (position==0)
        print('Buy Condition ', buy_condition)
        
        sell_condition = (close.iloc[-2] < ma_low.iloc[-2]) and (close.iloc[-3] > ma_low.iloc[-3]) and (position==0)
        print('Sell Condition ', sell_condition)
        
        print ('\nRunning Epoch {}/{}'.format(i,int(num_cycles)))
        progress()
        # client.get_asset_balance(asset=symbol[3:])
        if (close.iloc[-2] > ma_high.iloc[-2] and
            close.iloc[-3] < ma_high.iloc[-3] and
            position==0):
            
            print('Buy Condition Triggered\n')
            
#             client.order_limit_buy(symbol=symbol,
#                                    quantity=round(float(client.get_asset_balance(asset=symbol[3:])['free'])/best_bid_ask(symbol)[1],3),
#                                    price=best_bid_ask(symbol)[1])
            
                                                                                                                                                                                                                                                                                                                                                                                                                                                                                                                                                                                                                                                                                                                                                                                                                                client.order_market_buy(symbol=symbol,
                                                                                                                                                                                                                                                                                                                                                                                                                                                                                                                                                                                                                                                                                                                                                                                                                                                        quantity='%.3f'%(0.99*float(client.get_asset_balance(asset=symbol[3:])['free'])/best_bid_ask(symbol)[1]))            
            
            position+=buy_trade_size # change this to actual position size
            print('{} Qty of {} Bought at {}'.format(buy_trade_size,
                                                     symbol,
                                                     client.get_my_trades(symbol=symbol)[-1]['price']))
        
        elif (close.iloc[-2] < ma_low.iloc[-2] and
              close.iloc[-3] > ma_low.iloc[-3] and
              position==0):
            print('Sell Condition Triggered\n')
            
#             client.order_limit_sell(symbol=symbol,
#                                     quantity=round(float(client.get_asset_balance(asset=symbol[3:])['free'])/best_bid_ask(symbol)[0],3),
#                                     price=best_bid_ask(symbol)[0])
            
            client.order_market_sell(symbol=symbol,
                                     quantity='%.3f'%(0.99*float(client.get_asset_balance(asset=symbol[3:])['free'])/best_bid_ask(symbol)[0]))

            position-=sell_trade_size
            print('{} Qty of {} Sold at {}'.format(sell_trade_size,
                                                   symbol,
                                                   client.get_my_trades(symbol=symbol)[-1]['price']))

        if (position > 0 and close.iloc[-2] < ma_low.iloc[-2] and
            close.iloc[-3] > ma_low.iloc[-3]):
            print('Stop-Loss of Buy Position Triggered\n')

#             client.order_limit_sell(symbol=symbol,
#                                     quantity=round(float(client.get_asset_balance(asset=symbol[0:3])['free']),3),
#                                     price=best_bid_ask(symbol)[0])            
            
            client.order_market_sell(symbol=symbol,
                        quantity='%.3f'%(float(client.get_asset_balance(asset=symbol[0:3])['free'])))            
            
            print('{} Qty of {} Stop-Loss- Sell triggered at {}'.format(position,
                                                                        symbol,
                                                                        client.get_my_trades(symbol=symbol)[-1]['price']))
            position=0
        
        elif (position < 0 and close.iloc[-2] > ma_high.iloc[-2] and
            close.iloc[-3] < ma_high.iloc[-3]):
            print('Stop-Loss of Sell Position Triggered\n')
            
            client.order_market_buy(symbol=symbol,
                                    quantity='%.3f'%(float(client.get_asset_balance(asset=symbol[3:])['free'])/float(best_bid_ask(symbol)[1])))
            
            position=0
            print('{} Qty of {} Stop-Loss- Sell triggered at {}'.format(position,
                                                                        symbol,
                                                                        client.get_my_trades(symbol=symbol)[-1]['price']))

        else:
            print("No Trading Signal Triggered")
        
        print('Executed Time :', datetime.datetime.now())
        time.sleep(ping_interval)


#trade aggregator (generator)
agg_trades = client.aggregate_trade_iter(symbol='ETHBTC', start_str='1 week ago UTC')
# iterate over the trade iterator
for trade in agg_trades:
    pass
    #print(trade)
    # do something with the trade data

# convert the iterator to a list
# note: generators can only be iterated over once so we need to call it again
agg_trades = client.aggregate_trade_iter(symbol='ETHBTC', start_str='1 week ago UTC')
agg_trade_list = list(agg_trades)
'''
# fetch 30 minute klines for the last month of 2017
klines = client.get_historical_klines("ETHBTC", Client.KLINE_INTERVAL_30MINUTE, "1 Dec, 2017", "1 Jan, 2018")
#for kline in klines:
    #print(kline)
'''


if __name__ == "__main__":
    run()
